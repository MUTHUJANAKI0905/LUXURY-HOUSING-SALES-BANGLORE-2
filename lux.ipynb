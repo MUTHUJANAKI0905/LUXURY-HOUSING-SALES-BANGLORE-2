import pandas as pd
import numpy as np
import matplotlib.pyplot as plt

#  Load the raw dataset ---
# The script assumes the file 'Luxury_Housing_Bangalore.csv' is in the same directory.
print("Loading the raw dataset...")
df = pd.read_csv('Luxury_Housing_Bangalore.csv')
print("Dataset loaded successfully. Initial shape:", df.shape)
print("\n--- Initial Data Info ---")
df.info()
#  Handle Missing Values
print("\n--- Handling missing values ---")

df['Unit_Size_Sqft'] = df['Unit_Size_Sqft'].fillna(df['Unit_Size_Sqft'].mean())
df['Amenity_Score'] = df['Amenity_Score'].fillna(df['Amenity_Score'].mean())
df['Ticket_Price_Cr'] = pd.to_numeric(df['Ticket_Price_Cr'], errors='coerce')
df['Ticket_Price_Cr'] = df['Ticket_Price_Cr'].fillna(df['Ticket_Price_Cr'].mean())
# Fill missing 'Buyer_Comments' with a descriptive string.
df['Buyer_Comments'] = df['Buyer_Comments'].fillna('No Comments Provided')
print("Missing values handled for specified columns.")
#  Normalize Text Fields

print("\n--- Normalizing text fields ---")
df['Micro_Market'] = df['Micro_Market'].str.title() # Convert to Title Case
df['Developer_Name'] = df['Developer_Name'].str.title() # Convert to Title Case

# Standardize the 'Configuration' column.

df['Configuration'] = df['Configuration'].str.lower().str.replace('bhk', 'BHK')
df['Configuration'] = df['Configuration'].str.replace(' ', '')
df['Configuration'] = df['Configuration'].replace('5Bhk+', '5BHK+')

print("Text fields normalized.")
# Derive New Columns (Feature Engineering)
print("\n--- Creating new features ---")
# Create 'Price_per_Sqft' for competitive pricing analysis.
# We multiply by 10,000,000 to convert crores (Cr) to rupees.
df['Price_per_Sqft'] = (df['Ticket_Price_Cr'] * 10000000) / df['Unit_Size_Sqft']

# Convert 'Purchase_Quarter' to a datetime object to extract quarter number.
df['Purchase_Quarter'] = pd.to_datetime(df['Purchase_Quarter'])
df['Quarter_Number'] = df['Purchase_Quarter'].dt.quarter

# This will be essential for your Power BI visualizations.
df['Booking_Status'] = 'Booked'
df['Booking_Flag'] = 1
df['NRI_Buyer'] = df['NRI_Buyer'].str.lower().replace({'yes': True, 'no': False}).astype(bool)

print("New features created: Price_per_Sqft, Quarter_Number, Booking_Status, Booking_Flag.")
#  Save the cleaned DataFrame to a new CSV file ---

output_file = 'cleaned_luxury_housing_data.csv'
df.to_csv(output_file, index=False)
print(f"\nCleaned data saved to '{output_file}'.")

# Display the first few rows of the cleaned data and its info to confirm the changes.
print("\n--- Final Cleaned Data Info ---")
df.info()
print("\n--- First 5 rows of the cleaned data ---")
print(df.head().to_markdown(index=False, numalign="left", stralign="left"))
# Define the file path
file_path = 'cleaned_luxury_housing_data.csv'

try:
    # Load the CSV file into a pandas DataFrame
    df = pd.read_csv('cleaned_luxury_housing_data.csv')

    # Print the first 5 rows to verify the data was loaded correctly
    print("Successfully loaded the dataset. Here are the first 5 rows:")
    print(df.head().to_markdown(index=False, numalign="left", stralign="left"))

except FileNotFoundError:
    print(f"Error: The file '{'cleaned_luxury_housing_data.csv'}' was not found.")
except Exception as e:
    print(f"An unexpected error occurred: {e}")
